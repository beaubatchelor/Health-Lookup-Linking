{
 "cells": [
  {
   "cell_type": "code",
   "execution_count": 30,
   "metadata": {},
   "outputs": [],
   "source": [
    "import pandas as pd\n",
    "import csv\n",
    "import matplotlib.pyplot as plt\n",
    "\n",
    "#import world happiness report, based on data from Gallup World Poll\n",
    "happiness_df = pd.read_csv(\"../Data/2017.csv\")\n",
    "happiness_df = happiness_df.rename(columns={\"Happiness.Score\" : \"Happiness Score\"})"
   ]
  },
  {
   "cell_type": "code",
   "execution_count": 31,
   "metadata": {},
   "outputs": [],
   "source": [
    "#import Life Expectancy Data, data from CIA.gov\n",
    "expected_life_df =  pd.read_csv(\"../Data/LifeExpectancy.csv\")"
   ]
  },
  {
   "cell_type": "code",
   "execution_count": 32,
   "metadata": {},
   "outputs": [],
   "source": [
    "#clean expected_life_df\n",
    "for index, row in expected_life_df.iterrows():\n",
    "    country = row['Column2'].rstrip()\n",
    "    expected_life_df.iloc[index, 1] = country\n",
    "    \n",
    "expected_life_df = expected_life_df.drop(columns=[\"Column1\"])\n",
    "expected_life_df=expected_life_df.rename(columns={\"Column2\":\"Country\", \"Column3\":\"Life Expectancy\"})"
   ]
  },
  {
   "cell_type": "code",
   "execution_count": 37,
   "metadata": {},
   "outputs": [
    {
     "data": {
      "text/plain": [
       "(142, 3)"
      ]
     },
     "execution_count": 37,
     "metadata": {},
     "output_type": "execute_result"
    }
   ],
   "source": [
    "#merge happiness_df and expected_life_df\n",
    "merged_happiness_df = expected_life_df.merge(happiness_df[[\"Country\", \"Happiness Score\"]], how=\"inner\")\n",
    "merged_happiness_df.shape"
   ]
  },
  {
   "cell_type": "code",
   "execution_count": 38,
   "metadata": {},
   "outputs": [
    {
     "data": {
      "text/plain": [
       "Text(0,0.5,'Happiness Score')"
      ]
     },
     "execution_count": 38,
     "metadata": {},
     "output_type": "execute_result"
    },
    {
     "data": {
      "image/png": "[encoded data removed]",
      "text/plain": [
       "<Figure size 432x288 with 1 Axes>"
      ]
     },
     "metadata": {},
     "output_type": "display_data"
    }
   ],
   "source": [
    "plt.scatter(merged_happiness_df[\"Life Expectancy\"], merged_happiness_df[\"Happiness Score\"])\n",
    "plt.xlabel(\"Life Expectancy, years at birth, 2017\")\n",
    "plt.ylabel(\"Happiness Score\")"
   ]
  },
  {
   "cell_type": "code",
   "execution_count": null,
   "metadata": {},
   "outputs": [],
   "source": []
  }
 ],
 "metadata": {
  "kernelspec": {
   "display_name": "Python [conda env:PythonData3]",
   "language": "python",
   "name": "conda-env-PythonData3-py"
  },
  "language_info": {
   "codemirror_mode": {
    "name": "ipython",
    "version": 3
   },
   "file_extension": ".py",
   "mimetype": "text/x-python",
   "name": "python",
   "nbconvert_exporter": "python",
   "pygments_lexer": "ipython3",
   "version": "3.6.5"
  }
 },
 "nbformat": 4,
 "nbformat_minor": 2
}
